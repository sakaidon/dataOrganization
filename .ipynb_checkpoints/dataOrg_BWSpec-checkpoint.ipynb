{
 "cells": [
  {
   "cell_type": "code",
   "execution_count": 19,
   "metadata": {},
   "outputs": [],
   "source": [
    "import glob\n",
    "import pandas as pd\n",
    "\n",
    "# 同一ディレクトリ内のtxtファイル名リスト取得\n",
    "fileNames = glob.glob(\"*.txt\")\n",
    "fileNames.sort()\n",
    "matome = []\n",
    "\n",
    "# 各ファイルデータ取得\n",
    "for i in range(len(fileNames)):\n",
    "    file_data = open(fileNames[i], \"r\")　# ファイルオープン\n",
    "    \n",
    "# 一つ目のファイルのみWavelengthの値も取得\n",
    "    if i == 0:\n",
    "        matome.append([\"Wavelength\",fileNames[i][:-4]])\n",
    "        for line in file_data:\n",
    "            tmp = line.split(\";\")\n",
    "            if len(tmp) > 13 and tmp[1] != \"Wavelength\" and tmp[1] != '   ':\n",
    "                matome.append([tmp[1], tmp[7]])\n",
    "\n",
    "# 二つ目以降のファイルのデータ取得\n",
    "    else:\n",
    "        cnt =1\n",
    "        matome[0].append(fileNames[i][:-4])\n",
    "        for line in file_data:\n",
    "            tmp = line.split(\";\")\n",
    "            if len(tmp) > 13 and tmp[1] != \"Wavelength\" and tmp[1] != '   ':\n",
    "                matome[cnt].append(tmp[7])\n",
    "                cnt += 1\n",
    "                \n",
    "    file_data.close() # ファイルクローズ\n",
    "    \n",
    "# csv形式で出力\n",
    "df = pd.DataFrame(matome)\n",
    "df.to_csv(\"matome.csv\")"
   ]
  },
  {
   "cell_type": "code",
   "execution_count": null,
   "metadata": {},
   "outputs": [],
   "source": []
  }
 ],
 "metadata": {
  "kernelspec": {
   "display_name": "Python 3",
   "language": "python",
   "name": "python3"
  },
  "language_info": {
   "codemirror_mode": {
    "name": "ipython",
    "version": 3
   },
   "file_extension": ".py",
   "mimetype": "text/x-python",
   "name": "python",
   "nbconvert_exporter": "python",
   "pygments_lexer": "ipython3",
   "version": "3.8.5"
  }
 },
 "nbformat": 4,
 "nbformat_minor": 4
}
